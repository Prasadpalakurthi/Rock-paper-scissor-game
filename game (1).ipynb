{
 "cells": [
  {
   "cell_type": "code",
   "execution_count": 28,
   "id": "ef40694d-2d49-4965-85d7-e71aafdccef7",
   "metadata": {},
   "outputs": [
    {
     "name": "stdin",
     "output_type": "stream",
     "text": [
      "Enter your choice (rock,paper,scissor): rock\n"
     ]
    },
    {
     "name": "stdout",
     "output_type": "stream",
     "text": [
      "You choose rock, and the computer choose rock.\n",
      "Tie\n"
     ]
    }
   ],
   "source": [
    "import random\n",
    "def determine_winner(user_choice, computer_choice):\n",
    "    if user_choice == computer_choice:\n",
    "        return \"Its Tie\"\n",
    "user_choice=input(\"Enter your choice (rock,paper,scissor):\")\n",
    "computer_choice=random.choice(['rock', 'paper', 'scissor'])\n",
    "print(f\"You choose {user_choice}, and the computer choose {computer_choice}.\")\n",
    "if (user_choice=='rock' and computer_choice=='paper') or\\\n",
    "(user_choice=='paper' and computer_choice=='rock') or \\\n",
    "(user_choice=='scissor' and computer_choice=='paper'):\n",
    "    print(\"you won\")\n",
    "elif user== computer:\n",
    "    print(\"Tie\")\n",
    "else:\n",
    "    print(\"computer wins\")"
   ]
  },
  {
   "cell_type": "code",
   "execution_count": null,
   "id": "c6560466-c5d3-460f-8847-29fe8050d09b",
   "metadata": {},
   "outputs": [],
   "source": []
  }
 ],
 "metadata": {
  "kernelspec": {
   "display_name": "Python 3 (ipykernel)",
   "language": "python",
   "name": "python3"
  },
  "language_info": {
   "codemirror_mode": {
    "name": "ipython",
    "version": 3
   },
   "file_extension": ".py",
   "mimetype": "text/x-python",
   "name": "python",
   "nbconvert_exporter": "python",
   "pygments_lexer": "ipython3",
   "version": "3.11.7"
  }
 },
 "nbformat": 4,
 "nbformat_minor": 5
}
